{
 "cells": [
  {
   "cell_type": "code",
   "execution_count": 1,
   "metadata": {},
   "outputs": [],
   "source": [
    "class Rectangle:\n",
    "    def __init__(self, width = 0, height = 0):\n",
    "        #run check for inputed values\n",
    "        assert width&height >= 0, f\"width {width} or height {height} is less than zero, invalid lenght\"\n",
    "\n",
    "        #initalisation\n",
    "        self.width = width\n",
    "        self.height = height\n",
    "        if width == height:\n",
    "            self.type = \"Square\"\n",
    "        else:\n",
    "            self.type = \"Rectangle\"\n",
    "\n",
    "    def set_width(self, width) -> None:\n",
    "        self.width = width\n",
    "\n",
    "    def set_height(self, height) -> None:\n",
    "        self.height = height\n",
    "\n",
    "    def get_area(self) -> float:\n",
    "        return self.width*self.height\n",
    "\n",
    "    def get_perimeter(self) -> float:\n",
    "        return 2*(self.width + self.height)\n",
    "\n",
    "    def get_diagonal(self) -> float:\n",
    "        return ((self.width**2 + self.height**2)**0.5)\n",
    "\n",
    "    def get_picture(self) -> str:\n",
    "        if self.width>50:\n",
    "            return \"Too big for picture\"\n",
    "        else:\n",
    "            return (\"*\"*self.width + \"\\n\")*self.height\n",
    "\n",
    "    def get_amount_inside(self, shape: object) -> int:\n",
    "        if ((self.width//shape.width)>=0)&((self.height//shape.height)>=0):\n",
    "            return (self.width//shape.width)*(self.height//shape.height)\n",
    "        else:\n",
    "            print(f\"The {shape.type} cannot fit inside the other shape\")\n",
    "            return 0\n",
    "\n",
    "    def __str__(self) -> str:\n",
    "        return f\"Rectangle(width = {self.width}, height = {self.height})\"\n",
    "\n",
    "class Square(Rectangle):\n",
    " \n",
    "    def __init__(self, side=0) -> None:\n",
    "        super().__init__(side, side)\n",
    "\n",
    "    def set_side(self, side) -> None:\n",
    "        self.__init__(side)\n",
    "\n",
    "    def __str__(self) -> str:\n",
    "        return f\"Square(side = {self.width})\"\n",
    "    \n"
   ]
  },
  {
   "cell_type": "code",
   "execution_count": 3,
   "metadata": {},
   "outputs": [
    {
     "name": "stdout",
     "output_type": "stream",
     "text": [
      "50\n",
      "26\n",
      "Rectangle(width = 10, height = 3)\n",
      "**********\n",
      "**********\n",
      "**********\n",
      "\n",
      "81\n",
      "5.656854249492381\n",
      "Square(side = 4)\n",
      "****\n",
      "****\n",
      "****\n",
      "****\n",
      "\n",
      "****************\n",
      "****************\n",
      "****************\n",
      "****************\n",
      "****************\n",
      "****************\n",
      "****************\n",
      "****************\n",
      "\n",
      "8\n"
     ]
    }
   ],
   "source": [
    "rect = Rectangle(10, 5)\n",
    "print(rect.get_area())\n",
    "rect.set_height(3)\n",
    "print(rect.get_perimeter())\n",
    "print(rect)\n",
    "print(rect.get_picture())\n",
    "\n",
    "sq = Square(9)\n",
    "print(sq.get_area())\n",
    "sq.set_side(4)\n",
    "print(sq.get_diagonal())\n",
    "print(sq)\n",
    "print(sq.get_picture())\n",
    "\n",
    "rect.set_height(8)\n",
    "rect.set_width(16)\n",
    "print(rect.get_picture())\n",
    "print(rect.get_amount_inside(sq))"
   ]
  },
  {
   "cell_type": "code",
   "execution_count": null,
   "metadata": {},
   "outputs": [],
   "source": []
  }
 ],
 "metadata": {
  "interpreter": {
   "hash": "a7a9af5b1f70d9cd9310868279e829f8666029f4f83bc644628e9fa2f9ec98d3"
  },
  "kernelspec": {
   "display_name": "Python 3.8.3 64-bit ('base': conda)",
   "language": "python",
   "name": "python3"
  },
  "language_info": {
   "codemirror_mode": {
    "name": "ipython",
    "version": 3
   },
   "file_extension": ".py",
   "mimetype": "text/x-python",
   "name": "python",
   "nbconvert_exporter": "python",
   "pygments_lexer": "ipython3",
   "version": "3.8.3"
  },
  "orig_nbformat": 4
 },
 "nbformat": 4,
 "nbformat_minor": 2
}
